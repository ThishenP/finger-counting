{
 "cells": [
  {
   "cell_type": "code",
   "execution_count": 267,
   "id": "ad65c40a",
   "metadata": {},
   "outputs": [],
   "source": [
    "import cv2 as cv\n",
    "import matplotlib.pyplot as plt\n",
    "import numpy as np\n",
    "import glob\n",
    "from skimage import morphology\n",
    "from scipy import ndimage\n",
    "from skimage import measure\n",
    "\n",
    "plt.rcParams[\"figure.figsize\"] = (15, 10)\n",
    "#plt.gray()"
   ]
  },
  {
   "cell_type": "code",
   "execution_count": 278,
   "id": "b55eca24",
   "metadata": {},
   "outputs": [],
   "source": [
    "def morph_count(f, save_process = False, plot_save_name = None):\n",
    "    \n",
    "    binary_hand = morphology.closing(f)\n",
    "    binary_hand = morphology.opening(binary_hand)\n",
    "    \n",
    "    palm_small = morphology.binary_erosion(binary_hand,np.ones([10,10]))\n",
    "    palm_large = morphology.binary_dilation(palm_small, np.ones([31,31]))\n",
    "    \n",
    "    fingers = np.bitwise_and(binary_hand,np.invert(palm_large))\n",
    "    _,num_fingers = measure.label(fingers,return_num=True)\n",
    "    \n",
    "    \n",
    "    if save_process:\n",
    "        fig, ax = plt.subplots(1, 4)\n",
    "        fig.suptitle('Morphological Method')\n",
    "        ax[0].imshow(binary_hand)\n",
    "        ax[0].set_title(\"Binarised Image\")\n",
    "        ax[1].imshow(palm_small)\n",
    "        ax[0].set_title(\"Erosion\")\n",
    "        ax[2].imshow(palm_large)\n",
    "        ax[0].set_title(\"Dilation\")\n",
    "        ax[3].imshow( fingers)\n",
    "        ax[0].set_title(\"Extracted Fingers\")\n",
    "        \n",
    "        fig.savefig(f\"{plot_save_name}\", dpi=fig.dpi)\n",
    "    return num_fingers"
   ]
  },
  {
   "cell_type": "code",
   "execution_count": 347,
   "id": "06bfff31",
   "metadata": {},
   "outputs": [],
   "source": [
    "def hull_count(f, save_process = False,plot_save_name = None):\n",
    "    contours, hierarchy = cv.findContours(f, cv.RETR_TREE, cv.CHAIN_APPROX_SIMPLE)\n",
    "\n",
    "    contours = max(contours, key=lambda x: cv.contourArea(x))\n",
    "\n",
    "    hull = cv.convexHull(contours, returnPoints=False)\n",
    "    defects = cv.convexityDefects(contours, hull)\n",
    "    defect_lengths = defects[:,0,3]\n",
    "    print(hull)\n",
    "    \n",
    "    if save_process:\n",
    "        fig, ax = plt.subplots(1, 4)\n",
    "        fig.suptitle('Morphological Method')\n",
    "        ax[0].imshow(binary_hand)\n",
    "        ax[0].set_title(\"Binarised Image\")\n",
    "        ax[1].imshow(hull)\n",
    "        ax[0].set_title(\"Erosion\")\n",
    "        ax[2].imshow(palm_large)\n",
    "        ax[0].set_title(\"Dilation\")\n",
    "        ax[3].imshow( fingers)\n",
    "        ax[0].set_title(\"Extracted Fingers\")\n",
    "        fig.savefig(f\"{plot_save_name}\", dpi=fig.dpi)\n",
    "    \n",
    "    return len(defect_lengths[defect_lengths>4500])+1"
   ]
  },
  {
   "cell_type": "code",
   "execution_count": 351,
   "id": "5e10b5ae",
   "metadata": {},
   "outputs": [],
   "source": [
    "def hull_count_2(f, save_process = False,plot_save_name = None):\n",
    "    hull = morphology.convex_hull_image(f)\n",
    "    plt.imshow(hull)"
   ]
  },
  {
   "cell_type": "code",
   "execution_count": 352,
   "id": "2593e873",
   "metadata": {},
   "outputs": [
    {
     "data": {
      "image/png": "[encoded data removed]",
      "text/plain": [
       "<Figure size 1080x720 with 1 Axes>"
      ]
     },
     "metadata": {
      "needs_background": "light"
     },
     "output_type": "display_data"
    }
   ],
   "source": [
    "count_fingers(colour_hands[4], hull_count_2, False, \"col_1\") "
   ]
  },
  {
   "cell_type": "code",
   "execution_count": 318,
   "id": "1bdf6ff5",
   "metadata": {},
   "outputs": [],
   "source": [
    "def square_crop(f):\n",
    "    if f.shape[0] > f.shape[1]:\n",
    "        cut_size = int((f.shape[0] - f.shape[1])/2)\n",
    "        cropped = f[cut_size : cut_size + f.shape[1]]\n",
    "    elif f.shape[0] > f.shape[1]:\n",
    "        cut_size = int((f.shape[1] - f.shape[0])/2)\n",
    "        cropped = f[:,cut_size : cut_size + f.shape[0]]\n",
    "    else:\n",
    "        return f  \n",
    "    return cropped"
   ]
  },
  {
   "cell_type": "code",
   "execution_count": 281,
   "id": "47e5bb3f",
   "metadata": {},
   "outputs": [],
   "source": [
    "def center_vals(f):\n",
    "    center = [int(f.shape[0]/2)+20,int(f.shape[1]/2)]\n",
    "    box = f[center[0]-5:center[0]+5,center[1]-5:center[1]+5]\n",
    "    flat = box.flatten()\n",
    "    values, counts = np.unique(flat, return_counts=True)\n",
    "    idx = np.argmax(counts)\n",
    "    return values[idx]"
   ]
  },
  {
   "cell_type": "code",
   "execution_count": 282,
   "id": "a648e36c",
   "metadata": {},
   "outputs": [],
   "source": [
    "def gray_image_thresholding(f):\n",
    "    _,binary_hand = cv.threshold(f, 90, 255, cv.THRESH_BINARY)\n",
    "    binary_hand = morphology.closing(binary_hand)\n",
    "    binary_hand = morphology.opening(binary_hand)\n",
    "    return binary_hand"
   ]
  },
  {
   "cell_type": "code",
   "execution_count": 283,
   "id": "517fb2cd",
   "metadata": {},
   "outputs": [],
   "source": [
    "def preprocess_image(f):\n",
    "    cropped = square_crop(f)\n",
    "    small =  cv.resize(cropped,[128,128], interpolation = cv.INTER_AREA)\n",
    "    hsv_hand =  cv.cvtColor(small, cv.COLOR_BGR2HSV)\n",
    "    return hsv_hand"
   ]
  },
  {
   "cell_type": "code",
   "execution_count": 284,
   "id": "6d2f04eb",
   "metadata": {},
   "outputs": [],
   "source": [
    "def colour_image_thresholding(f):\n",
    "    saturation = f[:,:,1]\n",
    "\n",
    "    blur = cv.GaussianBlur(saturation,(5,5),0)\n",
    "    _ ,binary_hand = cv.threshold(blur,0,255,cv.THRESH_BINARY+cv.THRESH_OTSU)\n",
    "\n",
    "    if center_vals(binary_hand)==0:\n",
    "        binary_hand = ~binary_hand\n",
    "    return binary_hand"
   ]
  },
  {
   "cell_type": "code",
   "execution_count": 285,
   "id": "865b4244",
   "metadata": {},
   "outputs": [],
   "source": [
    "def count_fingers(f, count_func, save_process=False, plot_save_name = None):\n",
    "    hand = preprocess_image(f)\n",
    "    binary_hand = colour_image_thresholding(hand)\n",
    "    count = count_func(binary_hand, save_process, plot_save_name)\n",
    "    return count"
   ]
  },
  {
   "cell_type": "code",
   "execution_count": 286,
   "id": "7fc7cc80",
   "metadata": {},
   "outputs": [],
   "source": [
    "gray_hands = []\n",
    "gray_labels = []\n",
    "for file in glob.glob(\"gray_hands/*.png\"):\n",
    "    hand = cv.imread(file , cv.COLOR_BGR2GRAY)\n",
    "    binary_hand = gray_image_thresholding(hand)\n",
    "    gray_hands.append(binary_hand)\n",
    "    gray_labels.append(int(file[len(file)-6]))\n",
    "    \n",
    "colour_hands = []\n",
    "colour_labels = []\n",
    "for file in glob.glob(\"colour_hands/*.jpg\"):\n",
    "    hand = cv.imread(file)\n",
    "    colour_hands.append(hand)\n",
    "    colour_labels.append(int(file[len(file)-5]))"
   ]
  },
  {
   "cell_type": "code",
   "execution_count": 287,
   "id": "26b91e92",
   "metadata": {},
   "outputs": [],
   "source": [
    "n = len(gray_hands)\n",
    "right_morph = 0\n",
    "right_hull = 0\n",
    "for i in range(n):\n",
    "    if morph_count(gray_hands[i]) == gray_labels[i]:\n",
    "        right_morph += 1\n",
    "    if hull_count(gray_hands[i]) == gray_labels[i]:\n",
    "        right_hull += 1\n",
    "        \n",
    "gray_morph_accuracy = (right_morph/n)*100\n",
    "gray_hull_accuracy = (right_hull/n)*100"
   ]
  },
  {
   "cell_type": "code",
   "execution_count": 288,
   "id": "1660542f",
   "metadata": {},
   "outputs": [],
   "source": [
    "n = len(colour_hands)\n",
    "right_morph = 0\n",
    "right_hull = 0\n",
    "for i in range(n):\n",
    "    if count_fingers(colour_hands[i], morph_count) == colour_labels[i]:\n",
    "        right_morph += 1\n",
    "    if count_fingers(colour_hands[i], hull_count) == colour_labels[i]:\n",
    "        right_hull += 1\n",
    "        \n",
    "colour_morph_accuracy = (right_morph/n)*100\n",
    "colour_hull_accuracy = (right_hull/n)*100"
   ]
  },
  {
   "cell_type": "code",
   "execution_count": 289,
   "id": "d063014e",
   "metadata": {},
   "outputs": [
    {
     "name": "stdout",
     "output_type": "stream",
     "text": [
      "gray:\n",
      "morph:  98.52777777777779\n",
      "hull:  81.94444444444444\n",
      "colour:\n",
      "morph:  44.44444444444444\n",
      "hull:  66.66666666666666\n"
     ]
    }
   ],
   "source": [
    "print('gray:')\n",
    "print('morph: ', gray_morph_accuracy)\n",
    "print('hull: ', gray_hull_accuracy)\n",
    "\n",
    "print('colour:')\n",
    "print('morph: ', colour_morph_accuracy)\n",
    "print('hull: ', colour_hull_accuracy)"
   ]
  },
  {
   "cell_type": "code",
   "execution_count": 310,
   "id": "706ca4f6",
   "metadata": {},
   "outputs": [
    {
     "data": {
      "text/plain": [
       "4"
      ]
     },
     "execution_count": 310,
     "metadata": {},
     "output_type": "execute_result"
    },
    {
     "data": {
      "image/png": "[encoded data removed]",
      "text/plain": [
       "<Figure size 1080x720 with 4 Axes>"
      ]
     },
     "metadata": {
      "needs_background": "light"
     },
     "output_type": "display_data"
    }
   ],
   "source": [
    "count_fingers(colour_hands[4], morph_count, True, \"col_1\") "
   ]
  },
  {
   "cell_type": "code",
   "execution_count": 311,
   "id": "1d466374",
   "metadata": {},
   "outputs": [
    {
     "data": {
      "text/plain": [
       "3"
      ]
     },
     "execution_count": 311,
     "metadata": {},
     "output_type": "execute_result"
    },
    {
     "data": {
      "image/png": "[encoded data removed]",
      "text/plain": [
       "<Figure size 1080x720 with 4 Axes>"
      ]
     },
     "metadata": {
      "needs_background": "light"
     },
     "output_type": "display_data"
    }
   ],
   "source": [
    "count_fingers(colour_hands[5], morph_count, True, \"col_1\") "
   ]
  },
  {
   "cell_type": "code",
   "execution_count": 323,
   "id": "e6dba48f",
   "metadata": {},
   "outputs": [
    {
     "ename": "TypeError",
     "evalue": "Invalid shape (264, 1, 2) for image data",
     "output_type": "error",
     "traceback": [
      "\u001b[1;31m---------------------------------------------------------------------------\u001b[0m",
      "\u001b[1;31mTypeError\u001b[0m                                 Traceback (most recent call last)",
      "\u001b[1;32m<ipython-input-323-d2e847421fe1>\u001b[0m in \u001b[0;36m<module>\u001b[1;34m\u001b[0m\n\u001b[1;32m----> 1\u001b[1;33m \u001b[0mcount_fingers\u001b[0m\u001b[1;33m(\u001b[0m\u001b[0mcolour_hands\u001b[0m\u001b[1;33m[\u001b[0m\u001b[1;36m4\u001b[0m\u001b[1;33m]\u001b[0m\u001b[1;33m,\u001b[0m \u001b[0mhull_count\u001b[0m\u001b[1;33m,\u001b[0m \u001b[1;32mFalse\u001b[0m\u001b[1;33m,\u001b[0m \u001b[1;34m\"col_1\"\u001b[0m\u001b[1;33m)\u001b[0m\u001b[1;33m\u001b[0m\u001b[1;33m\u001b[0m\u001b[0m\n\u001b[0m",
      "\u001b[1;32m<ipython-input-285-d822ec92d327>\u001b[0m in \u001b[0;36mcount_fingers\u001b[1;34m(f, count_func, save_process, plot_save_name)\u001b[0m\n\u001b[0;32m      2\u001b[0m     \u001b[0mhand\u001b[0m \u001b[1;33m=\u001b[0m \u001b[0mpreprocess_image\u001b[0m\u001b[1;33m(\u001b[0m\u001b[0mf\u001b[0m\u001b[1;33m)\u001b[0m\u001b[1;33m\u001b[0m\u001b[1;33m\u001b[0m\u001b[0m\n\u001b[0;32m      3\u001b[0m     \u001b[0mbinary_hand\u001b[0m \u001b[1;33m=\u001b[0m \u001b[0mcolour_image_thresholding\u001b[0m\u001b[1;33m(\u001b[0m\u001b[0mhand\u001b[0m\u001b[1;33m)\u001b[0m\u001b[1;33m\u001b[0m\u001b[1;33m\u001b[0m\u001b[0m\n\u001b[1;32m----> 4\u001b[1;33m     \u001b[0mcount\u001b[0m \u001b[1;33m=\u001b[0m \u001b[0mcount_func\u001b[0m\u001b[1;33m(\u001b[0m\u001b[0mbinary_hand\u001b[0m\u001b[1;33m,\u001b[0m \u001b[0msave_process\u001b[0m\u001b[1;33m,\u001b[0m \u001b[0mplot_save_name\u001b[0m\u001b[1;33m)\u001b[0m\u001b[1;33m\u001b[0m\u001b[1;33m\u001b[0m\u001b[0m\n\u001b[0m\u001b[0;32m      5\u001b[0m     \u001b[1;32mreturn\u001b[0m \u001b[0mcount\u001b[0m\u001b[1;33m\u001b[0m\u001b[1;33m\u001b[0m\u001b[0m\n",
      "\u001b[1;32m<ipython-input-322-7d182a533320>\u001b[0m in \u001b[0;36mhull_count\u001b[1;34m(f, save_process, plot_save_name)\u001b[0m\n\u001b[0;32m      5\u001b[0m \u001b[1;33m\u001b[0m\u001b[0m\n\u001b[0;32m      6\u001b[0m     \u001b[0mhull\u001b[0m \u001b[1;33m=\u001b[0m \u001b[0mcv\u001b[0m\u001b[1;33m.\u001b[0m\u001b[0mconvexHull\u001b[0m\u001b[1;33m(\u001b[0m\u001b[0mcontours\u001b[0m\u001b[1;33m,\u001b[0m \u001b[0mreturnPoints\u001b[0m\u001b[1;33m=\u001b[0m\u001b[1;32mFalse\u001b[0m\u001b[1;33m)\u001b[0m\u001b[1;33m\u001b[0m\u001b[1;33m\u001b[0m\u001b[0m\n\u001b[1;32m----> 7\u001b[1;33m     \u001b[0mplt\u001b[0m\u001b[1;33m.\u001b[0m\u001b[0mimshow\u001b[0m\u001b[1;33m(\u001b[0m\u001b[0mcontours\u001b[0m\u001b[1;33m)\u001b[0m\u001b[1;33m\u001b[0m\u001b[1;33m\u001b[0m\u001b[0m\n\u001b[0m\u001b[0;32m      8\u001b[0m     \u001b[0mdefects\u001b[0m \u001b[1;33m=\u001b[0m \u001b[0mcv\u001b[0m\u001b[1;33m.\u001b[0m\u001b[0mconvexityDefects\u001b[0m\u001b[1;33m(\u001b[0m\u001b[0mcontours\u001b[0m\u001b[1;33m,\u001b[0m \u001b[0mhull\u001b[0m\u001b[1;33m)\u001b[0m\u001b[1;33m\u001b[0m\u001b[1;33m\u001b[0m\u001b[0m\n\u001b[0;32m      9\u001b[0m     \u001b[0mdefect_lengths\u001b[0m \u001b[1;33m=\u001b[0m \u001b[0mdefects\u001b[0m\u001b[1;33m[\u001b[0m\u001b[1;33m:\u001b[0m\u001b[1;33m,\u001b[0m\u001b[1;36m0\u001b[0m\u001b[1;33m,\u001b[0m\u001b[1;36m3\u001b[0m\u001b[1;33m]\u001b[0m\u001b[1;33m\u001b[0m\u001b[1;33m\u001b[0m\u001b[0m\n",
      "\u001b[1;32m~\\anaconda3\\lib\\site-packages\\matplotlib\\pyplot.py\u001b[0m in \u001b[0;36mimshow\u001b[1;34m(X, cmap, norm, aspect, interpolation, alpha, vmin, vmax, origin, extent, filternorm, filterrad, resample, url, data, **kwargs)\u001b[0m\n\u001b[0;32m   2722\u001b[0m         \u001b[0mfilternorm\u001b[0m\u001b[1;33m=\u001b[0m\u001b[1;32mTrue\u001b[0m\u001b[1;33m,\u001b[0m \u001b[0mfilterrad\u001b[0m\u001b[1;33m=\u001b[0m\u001b[1;36m4.0\u001b[0m\u001b[1;33m,\u001b[0m \u001b[0mresample\u001b[0m\u001b[1;33m=\u001b[0m\u001b[1;32mNone\u001b[0m\u001b[1;33m,\u001b[0m \u001b[0murl\u001b[0m\u001b[1;33m=\u001b[0m\u001b[1;32mNone\u001b[0m\u001b[1;33m,\u001b[0m\u001b[1;33m\u001b[0m\u001b[1;33m\u001b[0m\u001b[0m\n\u001b[0;32m   2723\u001b[0m         data=None, **kwargs):\n\u001b[1;32m-> 2724\u001b[1;33m     __ret = gca().imshow(\n\u001b[0m\u001b[0;32m   2725\u001b[0m         \u001b[0mX\u001b[0m\u001b[1;33m,\u001b[0m \u001b[0mcmap\u001b[0m\u001b[1;33m=\u001b[0m\u001b[0mcmap\u001b[0m\u001b[1;33m,\u001b[0m \u001b[0mnorm\u001b[0m\u001b[1;33m=\u001b[0m\u001b[0mnorm\u001b[0m\u001b[1;33m,\u001b[0m \u001b[0maspect\u001b[0m\u001b[1;33m=\u001b[0m\u001b[0maspect\u001b[0m\u001b[1;33m,\u001b[0m\u001b[1;33m\u001b[0m\u001b[1;33m\u001b[0m\u001b[0m\n\u001b[0;32m   2726\u001b[0m         \u001b[0minterpolation\u001b[0m\u001b[1;33m=\u001b[0m\u001b[0minterpolation\u001b[0m\u001b[1;33m,\u001b[0m \u001b[0malpha\u001b[0m\u001b[1;33m=\u001b[0m\u001b[0malpha\u001b[0m\u001b[1;33m,\u001b[0m \u001b[0mvmin\u001b[0m\u001b[1;33m=\u001b[0m\u001b[0mvmin\u001b[0m\u001b[1;33m,\u001b[0m\u001b[1;33m\u001b[0m\u001b[1;33m\u001b[0m\u001b[0m\n",
      "\u001b[1;32m~\\anaconda3\\lib\\site-packages\\matplotlib\\__init__.py\u001b[0m in \u001b[0;36minner\u001b[1;34m(ax, data, *args, **kwargs)\u001b[0m\n\u001b[0;32m   1445\u001b[0m     \u001b[1;32mdef\u001b[0m \u001b[0minner\u001b[0m\u001b[1;33m(\u001b[0m\u001b[0max\u001b[0m\u001b[1;33m,\u001b[0m \u001b[1;33m*\u001b[0m\u001b[0margs\u001b[0m\u001b[1;33m,\u001b[0m \u001b[0mdata\u001b[0m\u001b[1;33m=\u001b[0m\u001b[1;32mNone\u001b[0m\u001b[1;33m,\u001b[0m \u001b[1;33m**\u001b[0m\u001b[0mkwargs\u001b[0m\u001b[1;33m)\u001b[0m\u001b[1;33m:\u001b[0m\u001b[1;33m\u001b[0m\u001b[1;33m\u001b[0m\u001b[0m\n\u001b[0;32m   1446\u001b[0m         \u001b[1;32mif\u001b[0m \u001b[0mdata\u001b[0m \u001b[1;32mis\u001b[0m \u001b[1;32mNone\u001b[0m\u001b[1;33m:\u001b[0m\u001b[1;33m\u001b[0m\u001b[1;33m\u001b[0m\u001b[0m\n\u001b[1;32m-> 1447\u001b[1;33m             \u001b[1;32mreturn\u001b[0m \u001b[0mfunc\u001b[0m\u001b[1;33m(\u001b[0m\u001b[0max\u001b[0m\u001b[1;33m,\u001b[0m \u001b[1;33m*\u001b[0m\u001b[0mmap\u001b[0m\u001b[1;33m(\u001b[0m\u001b[0msanitize_sequence\u001b[0m\u001b[1;33m,\u001b[0m \u001b[0margs\u001b[0m\u001b[1;33m)\u001b[0m\u001b[1;33m,\u001b[0m \u001b[1;33m**\u001b[0m\u001b[0mkwargs\u001b[0m\u001b[1;33m)\u001b[0m\u001b[1;33m\u001b[0m\u001b[1;33m\u001b[0m\u001b[0m\n\u001b[0m\u001b[0;32m   1448\u001b[0m \u001b[1;33m\u001b[0m\u001b[0m\n\u001b[0;32m   1449\u001b[0m         \u001b[0mbound\u001b[0m \u001b[1;33m=\u001b[0m \u001b[0mnew_sig\u001b[0m\u001b[1;33m.\u001b[0m\u001b[0mbind\u001b[0m\u001b[1;33m(\u001b[0m\u001b[0max\u001b[0m\u001b[1;33m,\u001b[0m \u001b[1;33m*\u001b[0m\u001b[0margs\u001b[0m\u001b[1;33m,\u001b[0m \u001b[1;33m**\u001b[0m\u001b[0mkwargs\u001b[0m\u001b[1;33m)\u001b[0m\u001b[1;33m\u001b[0m\u001b[1;33m\u001b[0m\u001b[0m\n",
      "\u001b[1;32m~\\anaconda3\\lib\\site-packages\\matplotlib\\axes\\_axes.py\u001b[0m in \u001b[0;36mimshow\u001b[1;34m(self, X, cmap, norm, aspect, interpolation, alpha, vmin, vmax, origin, extent, filternorm, filterrad, resample, url, **kwargs)\u001b[0m\n\u001b[0;32m   5521\u001b[0m                               resample=resample, **kwargs)\n\u001b[0;32m   5522\u001b[0m \u001b[1;33m\u001b[0m\u001b[0m\n\u001b[1;32m-> 5523\u001b[1;33m         \u001b[0mim\u001b[0m\u001b[1;33m.\u001b[0m\u001b[0mset_data\u001b[0m\u001b[1;33m(\u001b[0m\u001b[0mX\u001b[0m\u001b[1;33m)\u001b[0m\u001b[1;33m\u001b[0m\u001b[1;33m\u001b[0m\u001b[0m\n\u001b[0m\u001b[0;32m   5524\u001b[0m         \u001b[0mim\u001b[0m\u001b[1;33m.\u001b[0m\u001b[0mset_alpha\u001b[0m\u001b[1;33m(\u001b[0m\u001b[0malpha\u001b[0m\u001b[1;33m)\u001b[0m\u001b[1;33m\u001b[0m\u001b[1;33m\u001b[0m\u001b[0m\n\u001b[0;32m   5525\u001b[0m         \u001b[1;32mif\u001b[0m \u001b[0mim\u001b[0m\u001b[1;33m.\u001b[0m\u001b[0mget_clip_path\u001b[0m\u001b[1;33m(\u001b[0m\u001b[1;33m)\u001b[0m \u001b[1;32mis\u001b[0m \u001b[1;32mNone\u001b[0m\u001b[1;33m:\u001b[0m\u001b[1;33m\u001b[0m\u001b[1;33m\u001b[0m\u001b[0m\n",
      "\u001b[1;32m~\\anaconda3\\lib\\site-packages\\matplotlib\\image.py\u001b[0m in \u001b[0;36mset_data\u001b[1;34m(self, A)\u001b[0m\n\u001b[0;32m    709\u001b[0m         if not (self._A.ndim == 2\n\u001b[0;32m    710\u001b[0m                 or self._A.ndim == 3 and self._A.shape[-1] in [3, 4]):\n\u001b[1;32m--> 711\u001b[1;33m             raise TypeError(\"Invalid shape {} for image data\"\n\u001b[0m\u001b[0;32m    712\u001b[0m                             .format(self._A.shape))\n\u001b[0;32m    713\u001b[0m \u001b[1;33m\u001b[0m\u001b[0m\n",
      "\u001b[1;31mTypeError\u001b[0m: Invalid shape (264, 1, 2) for image data"
     ]
    },
    {
     "data": {
      "image/png": "[encoded data removed]",
      "text/plain": [
       "<Figure size 1080x720 with 1 Axes>"
      ]
     },
     "metadata": {
      "needs_background": "light"
     },
     "output_type": "display_data"
    }
   ],
   "source": []
  },
  {
   "cell_type": "code",
   "execution_count": 140,
   "id": "55fcd431",
   "metadata": {},
   "outputs": [
    {
     "data": {
      "text/plain": [
       "3"
      ]
     },
     "execution_count": 140,
     "metadata": {},
     "output_type": "execute_result"
    }
   ],
   "source": [
    "morph_count(gray_hands[2], save_process = True)"
   ]
  },
  {
   "cell_type": "code",
   "execution_count": null,
   "id": "3304e560",
   "metadata": {},
   "outputs": [],
   "source": []
  }
 ],
 "metadata": {
  "kernelspec": {
   "display_name": "Python 3",
   "language": "python",
   "name": "python3"
  },
  "language_info": {
   "codemirror_mode": {
    "name": "ipython",
    "version": 3
   },
   "file_extension": ".py",
   "mimetype": "text/x-python",
   "name": "python",
   "nbconvert_exporter": "python",
   "pygments_lexer": "ipython3",
   "version": "3.8.8"
  }
 },
 "nbformat": 4,
 "nbformat_minor": 5
}
