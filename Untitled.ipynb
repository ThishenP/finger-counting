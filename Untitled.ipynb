{
 "cells": [
  {
   "cell_type": "code",
   "execution_count": 120,
   "id": "ad65c40a",
   "metadata": {},
   "outputs": [],
   "source": [
    "import cv2 as cv\n",
    "import matplotlib.pyplot as plt\n",
    "import numpy as np\n",
    "import glob\n",
    "from skimage import morphology\n",
    "from scipy import ndimage\n",
    "from skimage import measure\n",
    "#plt.gray()"
   ]
  },
  {
   "cell_type": "code",
   "execution_count": 121,
   "id": "b55eca24",
   "metadata": {},
   "outputs": [],
   "source": [
    "def morph_count(f):\n",
    "    \n",
    "    palm = morphology.binary_erosion(f,np.ones([10,10]))\n",
    "    palm = morphology.binary_dilation(palm, np.ones([31,31]))\n",
    "    \n",
    "    fingers = np.bitwise_and(f,np.invert(palm))\n",
    "    _,num_fingers = measure.label(fingers,return_num=True)\n",
    "    \n",
    "    return num_fingers"
   ]
  },
  {
   "cell_type": "code",
   "execution_count": 122,
   "id": "06bfff31",
   "metadata": {},
   "outputs": [],
   "source": [
    "def hull_count(f):\n",
    "    contours, hierarchy = cv.findContours(f, cv.RETR_TREE, cv.CHAIN_APPROX_SIMPLE)\n",
    "\n",
    "    contours = max(contours, key=lambda x: cv.contourArea(x))\n",
    "\n",
    "    hull = cv.convexHull(contours, returnPoints=False)\n",
    "\n",
    "    defects = cv.convexityDefects(contours, hull)\n",
    "    defect_lengths = defects[:,0,3]\n",
    "    \n",
    "    return len(defect_lengths[defect_lengths>4500])+1"
   ]
  },
  {
   "cell_type": "code",
   "execution_count": 123,
   "id": "1bdf6ff5",
   "metadata": {},
   "outputs": [],
   "source": [
    "def square_crop(f):\n",
    "    if f.shape[0] > f.shape[1]:\n",
    "        cut_size = int((f.shape[0] - f.shape[1])/2)\n",
    "        cropped = f[cut_size : cut_size + f.shape[1]]\n",
    "    elif f.shape[0] > f.shape[1]:\n",
    "        cut_size = int((f.shape[1] - f.shape[0])/2)\n",
    "        cropped = f[:,cut_size : cut_size + f.shape[0]]\n",
    "    else:\n",
    "        return f  \n",
    "    return cropped"
   ]
  },
  {
   "cell_type": "code",
   "execution_count": 124,
   "id": "47e5bb3f",
   "metadata": {},
   "outputs": [],
   "source": [
    "def center_vals(f):\n",
    "    center = [int(f.shape[0]/2)+20,int(f.shape[1]/2)]\n",
    "    box = f[center[0]-5:center[0]+5,center[1]-5:center[1]+5]\n",
    "    flat = box.flatten()\n",
    "    values, counts = np.unique(flat, return_counts=True)\n",
    "    idx = np.argmax(counts)\n",
    "    return values[idx]"
   ]
  },
  {
   "cell_type": "code",
   "execution_count": 125,
   "id": "a648e36c",
   "metadata": {},
   "outputs": [],
   "source": [
    "def gray_image_thresholding(f):\n",
    "    _,binary_hand = cv.threshold(f, 90, 255, cv.THRESH_BINARY)\n",
    "    binary_hand = morphology.closing(binary_hand)\n",
    "    binary_hand = morphology.opening(binary_hand)\n",
    "    return binary_hand"
   ]
  },
  {
   "cell_type": "code",
   "execution_count": 126,
   "id": "517fb2cd",
   "metadata": {},
   "outputs": [],
   "source": [
    "def preprocess_image(f):\n",
    "    cropped = square_crop(f)\n",
    "    small =  cv.resize(cropped,[128,128], interpolation = cv.INTER_AREA)\n",
    "    hsv_hand =  cv.cvtColor(small, cv.COLOR_BGR2HSV)\n",
    "    return hsv_hand"
   ]
  },
  {
   "cell_type": "code",
   "execution_count": 127,
   "id": "6d2f04eb",
   "metadata": {},
   "outputs": [],
   "source": [
    "def colour_image_thresholding(f):\n",
    "    saturation = f[:,:,1]\n",
    "\n",
    "    blur = cv.GaussianBlur(saturation,(5,5),0)\n",
    "    _ ,binary_hand = cv.threshold(blur,0,255,cv.THRESH_BINARY+cv.THRESH_OTSU)\n",
    "\n",
    "    if center_vals(binary_hand)==0:\n",
    "        binary_hand = ~binary_hand\n",
    "    return binary_hand"
   ]
  },
  {
   "cell_type": "code",
   "execution_count": 128,
   "id": "865b4244",
   "metadata": {},
   "outputs": [],
   "source": [
    "def count_fingers(f, count_func):\n",
    "    hand = preprocess_image(f)\n",
    "    binary_hand = colour_image_thresholding(hand)\n",
    "    count = count_func(binary_hand)\n",
    "    return count"
   ]
  },
  {
   "cell_type": "code",
   "execution_count": 129,
   "id": "7fc7cc80",
   "metadata": {},
   "outputs": [],
   "source": [
    "gray_hands = []\n",
    "gray_labels = []\n",
    "for file in glob.glob(\"gray_hands/*.png\"):\n",
    "    hand = cv.imread(file , cv.COLOR_BGR2GRAY)\n",
    "    binary_hand = gray_image_thresholding(hand)\n",
    "    gray_hands.append(binary_hand)\n",
    "    gray_labels.append(int(file[len(file)-6]))\n",
    "    \n",
    "colour_hands = []\n",
    "colour_labels = []\n",
    "for file in glob.glob(\"colour_hands/*.jpg\"):\n",
    "    hand = cv.imread(file)\n",
    "    colour_hands.append(hand)\n",
    "    colour_labels.append(int(file[len(file)-5]))"
   ]
  },
  {
   "cell_type": "code",
   "execution_count": 130,
   "id": "26b91e92",
   "metadata": {},
   "outputs": [],
   "source": [
    "n = len(gray_hands)\n",
    "right_morph = 0\n",
    "right_hull = 0\n",
    "for i in range(n):\n",
    "    if morph_count(gray_hands[i]) == gray_labels[i]:\n",
    "        right_morph += 1\n",
    "    if hull_count(gray_hands[i]) == gray_labels[i]:\n",
    "        right_hull += 1\n",
    "        \n",
    "gray_morph_accuracy = (right_morph/n)*100\n",
    "gray_hull_accuracy = (right_hull/n)*100"
   ]
  },
  {
   "cell_type": "code",
   "execution_count": 131,
   "id": "1660542f",
   "metadata": {},
   "outputs": [],
   "source": [
    "n = len(colour_hands)\n",
    "right_morph = 0\n",
    "right_hull = 0\n",
    "for i in range(n):\n",
    "    if count_fingers(colour_hands[i], morph_count) == colour_labels[i]:\n",
    "        right_morph += 1\n",
    "    if count_fingers(colour_hands[i], hull_count) == colour_labels[i]:\n",
    "        right_hull += 1\n",
    "        \n",
    "colour_morph_accuracy = (right_morph/n)*100\n",
    "colour_hull_accuracy = (right_hull/n)*100"
   ]
  },
  {
   "cell_type": "code",
   "execution_count": 132,
   "id": "d063014e",
   "metadata": {},
   "outputs": [
    {
     "name": "stdout",
     "output_type": "stream",
     "text": [
      "gray:\n",
      "morph:  98.52777777777779\n",
      "hull:  81.94444444444444\n",
      "colour:\n",
      "morph:  54.54545454545454\n",
      "hull:  90.9090909090909\n"
     ]
    }
   ],
   "source": [
    "print('gray:')\n",
    "print('morph: ', gray_morph_accuracy)\n",
    "print('hull: ', gray_hull_accuracy)\n",
    "\n",
    "print('colour:')\n",
    "print('morph: ', colour_morph_accuracy)\n",
    "print('hull: ', colour_hull_accuracy)"
   ]
  },
  {
   "cell_type": "code",
   "execution_count": 133,
   "id": "706ca4f6",
   "metadata": {},
   "outputs": [
    {
     "data": {
      "text/plain": [
       "5"
      ]
     },
     "execution_count": 133,
     "metadata": {},
     "output_type": "execute_result"
    }
   ],
   "source": [
    "count_fingers(colour_hands[9], hull_count) "
   ]
  },
  {
   "cell_type": "code",
   "execution_count": 134,
   "id": "55fcd431",
   "metadata": {},
   "outputs": [
    {
     "data": {
      "text/plain": [
       "(4032, 3024, 3)"
      ]
     },
     "execution_count": 134,
     "metadata": {},
     "output_type": "execute_result"
    }
   ],
   "source": [
    "colour_hands[6].shape"
   ]
  },
  {
   "cell_type": "code",
   "execution_count": null,
   "id": "3304e560",
   "metadata": {},
   "outputs": [],
   "source": []
  }
 ],
 "metadata": {
  "kernelspec": {
   "display_name": "Python 3",
   "language": "python",
   "name": "python3"
  },
  "language_info": {
   "codemirror_mode": {
    "name": "ipython",
    "version": 3
   },
   "file_extension": ".py",
   "mimetype": "text/x-python",
   "name": "python",
   "nbconvert_exporter": "python",
   "pygments_lexer": "ipython3",
   "version": "3.8.8"
  }
 },
 "nbformat": 4,
 "nbformat_minor": 5
}
